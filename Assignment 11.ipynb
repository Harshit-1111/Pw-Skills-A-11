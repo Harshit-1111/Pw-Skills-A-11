{
 "cells": [
  {
   "cell_type": "code",
   "execution_count": null,
   "id": "cb02c292-5805-405a-9b8c-289bea28af03",
   "metadata": {},
   "outputs": [],
   "source": [
    "'''Q1. What is multiprocessing in python? Why is it useful?'''\n",
    "\n",
    "\n",
    "Multiprocessing in Python refers to the technique of running multiple processes concurrently within a Python program.\n",
    "Each process runs independently and can perform its own tasks,\n",
    "allowing for true parallelism, especially on multi-core processors.\n",
    "\n",
    "Multiprocessing is useful for several reasons:\n",
    "    Improved Performance\n",
    "    Parallelism\n",
    "    Concurrency\n",
    "    Fault Tolerance"
   ]
  },
  {
   "cell_type": "code",
   "execution_count": null,
   "id": "8b320bf2-6af3-4cf0-affd-e4b64fc45c89",
   "metadata": {},
   "outputs": [],
   "source": [
    "'''Q2. What are the differences between multiprocessing and multithreading?'''\n",
    "\n",
    "Definition:\n",
    "\n",
    "Multiprocessing: Multiprocessing involves running multiple processes simultaneously.\n",
    "                 Each process runs independently and has its own memory space.\n",
    "                 Processes do not share memory by default but can communicate using inter-process communication (IPC) mechanisms like pipes or queues.\n",
    "Multithreading: Multithreading involves running multiple threads within a single process.\n",
    "                Threads share the same memory space and can access the same data and variables. \n",
    "                They can communicate and synchronize easily, but they can also introduce synchronization challenges.\n",
    "\n",
    "Parallelism:\n",
    "\n",
    "Multiprocessing: Provides true parallelism by utilizing multiple CPU cores.\n",
    "                 Each process runs on a separate core and can perform tasks concurrently. Well-suited for CPU-bound tasks.\n",
    "Multithreading: In Python, multithreading is subject to the Global Interpreter Lock (GIL), which limits true parallelism. \n",
    "                Multiple threads may not fully utilize multiple CPU cores for CPU-bound tasks.\n",
    "                However, it's suitable for I/O-bound tasks and concurrency.\n",
    "\n",
    "Isolation:\n",
    "\n",
    "Multiprocessing: Processes are isolated from each other and run independently.\n",
    "                 Errors or crashes in one process do not affect others.\n",
    "Multithreading: Threads within the same process share the same memory space. \n",
    "                An error or crash in one thread can potentially affect the entire process.\n",
    "\n",
    "Complexity:\n",
    "\n",
    "Multiprocessing: May involve more complex communication mechanisms like queues or shared memory for inter-process communication.\n",
    "Multithreading: Typically involves simpler synchronization mechanisms like locks, semaphores, or conditions for coordinating threads.\n",
    "\n",
    "Use Cases:\n",
    "\n",
    "Multiprocessing: Ideal for CPU-bound tasks that can be parallelized, such as numerical calculations, data processing, and rendering.\n",
    "                 Also suitable for running multiple independent tasks in parallel.\n",
    "Multithreading: Well-suited for I/O-bound tasks like network communication, file I/O, and GUI applications,\n",
    "                where threads can wait for I/O operations without blocking the entire process."
   ]
  },
  {
   "cell_type": "code",
   "execution_count": 1,
   "id": "a6d5cf26-8f50-42df-82ea-cdba442c46e8",
   "metadata": {},
   "outputs": [
    {
     "name": "stdout",
     "output_type": "stream",
     "text": [
      "This is a child process.\n",
      "Main process continues.\n"
     ]
    }
   ],
   "source": [
    "'''Q3. Write a python code to create a process using the multiprocessing module.'''\n",
    "\n",
    "import multiprocessing\n",
    "\n",
    "def worker_function():\n",
    "    print(\"This is a child process.\")\n",
    "\n",
    "if __name__ == \"__main__\":\n",
    "    process = multiprocessing.Process(target=worker_function)\n",
    "    \n",
    "    process.start()\n",
    "    process.join()\n",
    "    \n",
    "    print(\"Main process continues.\")\n"
   ]
  },
  {
   "cell_type": "code",
   "execution_count": null,
   "id": "4f02ae36-3e4a-41c4-bea2-08a6e38bf410",
   "metadata": {},
   "outputs": [],
   "source": [
    "'''Q4. What is a multiprocessing pool in python? Why is it used?'''\n",
    "\n",
    "A multiprocessing pool in Python refers to a pool of worker processes that can be used to parallelize the execution of a function across\n",
    "multiple input values. It's provided by the multiprocessing module and is particularly useful for distributing tasks to multiple processes,\n",
    "especially when you want to take advantage of multiple CPU cores or processors to improve performance. \n",
    "The primary purpose of using a multiprocessing pool is to achieve parallelism and concurrency in a more convenient way"
   ]
  },
  {
   "cell_type": "code",
   "execution_count": null,
   "id": "071f813c-39fa-4604-923e-1bbc6e88d750",
   "metadata": {},
   "outputs": [],
   "source": [
    "'''Q5. How can we create a pool of worker processes in python using the multiprocessing module?'''\n",
    "\n",
    " you can create a pool of worker processes using the multiprocessing module.\n",
    "The multiprocessing.Pool class provides a convenient way to create and manage such pools"
   ]
  },
  {
   "cell_type": "code",
   "execution_count": 3,
   "id": "9ed8c1ad-6cf0-4f6a-af5a-7421969a993a",
   "metadata": {},
   "outputs": [
    {
     "name": "stdout",
     "output_type": "stream",
     "text": [
      "Results: [1, 4, 9, 16, 25]\n"
     ]
    }
   ],
   "source": [
    "import multiprocessing\n",
    "\n",
    "def square_number(x):\n",
    "    return x * x\n",
    "\n",
    "if __name__ == \"__main__\":\n",
    "    data = [1, 2, 3, 4, 5]\n",
    "    \n",
    "    pool = multiprocessing.Pool(processes=4)\n",
    "    results = pool.map(square_number, data)\n",
    "                       \n",
    "    pool.close()\n",
    "    pool.join()\n",
    "    pool.terminate()\n",
    "    \n",
    "    print(\"Results:\", results)\n"
   ]
  },
  {
   "cell_type": "code",
   "execution_count": 4,
   "id": "cd2f92ae-6e2f-46f5-bc29-fa1a2403584d",
   "metadata": {},
   "outputs": [
    {
     "name": "stdout",
     "output_type": "stream",
     "text": [
      "Process Process-6 prints 1\n",
      "Process Process-7 prints 2\n",
      "Process Process-8 prints 3\n",
      "Process Process-9 prints 4\n",
      "All processes have finished.\n"
     ]
    }
   ],
   "source": [
    "'''Q6. Write a python program to create 4 processes, each process should print a different number using the\n",
    "multiprocessing module in python.'''\n",
    "\n",
    "import multiprocessing\n",
    "\n",
    "def print_number(number):\n",
    "    print(f\"Process {multiprocessing.current_process().name} prints {number}\")\n",
    "\n",
    "if __name__ == \"__main__\":\n",
    "    numbers = [1, 2, 3, 4]\n",
    "\n",
    "    processes = []\n",
    "    for num in numbers:\n",
    "        process = multiprocessing.Process(target=print_number, args=(num,))\n",
    "        processes.append(process)\n",
    "\n",
    "    for process in processes:\n",
    "        process.start()\n",
    "\n",
    "    for process in processes:\n",
    "        process.join()\n",
    "\n",
    "    print(\"All processes have finished.\")\n"
   ]
  }
 ],
 "metadata": {
  "kernelspec": {
   "display_name": "Python 3 (ipykernel)",
   "language": "python",
   "name": "python3"
  },
  "language_info": {
   "codemirror_mode": {
    "name": "ipython",
    "version": 3
   },
   "file_extension": ".py",
   "mimetype": "text/x-python",
   "name": "python",
   "nbconvert_exporter": "python",
   "pygments_lexer": "ipython3",
   "version": "3.10.8"
  }
 },
 "nbformat": 4,
 "nbformat_minor": 5
}
